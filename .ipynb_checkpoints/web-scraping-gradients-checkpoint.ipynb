{
 "cells": [
  {
   "cell_type": "code",
   "execution_count": 1,
   "id": "f6333f9a",
   "metadata": {},
   "outputs": [],
   "source": [
    "import html5lib\n",
    "import csv\n",
    "import requests # Very common webscraping module - allows us to send HTTP requests\n",
    "from bs4 import BeautifulSoup # Very common for extracting info/data from HTML files\n",
    "import pandas as pd # Used for structuring and wrangling data\n",
    "from IPython.display import display, HTML # Purely aesthetic, makes dataframes look sleeker in Jupyter"
   ]
  },
  {
   "cell_type": "markdown",
   "id": "7b831a82",
   "metadata": {},
   "source": [
    "If we were to just send the URL a request, we would not get the full HTML page that is loaded by JS. Therefore, we must first go to the link, Inspect Element, copy the HTML from Inspect Element into a file, and read in the file locally. We do that by pasting into a text file, changing the extension from TXT to HTML, and opening the file in python with UTF8."
   ]
  },
  {
   "cell_type": "code",
   "execution_count": 2,
   "id": "15306c34",
   "metadata": {},
   "outputs": [],
   "source": [
    "# URL = \"https://coolors.co/gradients\"\n",
    "# r = requests.get(URL) \n",
    "\n",
    "soup = BeautifulSoup(open(\"https-coolors-co-gradients.html\", encoding=\"utf8\",))"
   ]
  },
  {
   "cell_type": "code",
   "execution_count": 44,
   "id": "3963ba38",
   "metadata": {},
   "outputs": [],
   "source": [
    "rgbs = []\n",
    "# table = soup.find('div', attrs = {'id':'gradients_items'})\n",
    "table = soup.find_all('div', attrs = {'class':'gradient-card_bg'})\n",
    "\n",
    "grad_start_list = []\n",
    "grad_end_list = []\n",
    "\n",
    "\n",
    "for item in table:\n",
    "    item = str(item)\n",
    "    gs_slice_start = item.find(\"rgb\")+4 # search for index of substring from the right\n",
    "    gs_slice_end = item.find(\")\") # search for index of substring from the right\n",
    "    grad_start_rgb_string = item[gs_slice_start:gs_slice_end]\n",
    "    grad_start_list.append(grad_start_rgb_string)\n",
    "    \n",
    "    ge_slice_end = item.rfind(\" 100%\")-1 # search for index of substring from the right\n",
    "    ge_slice_start = item.rfind(\"%\",0,ge_slice_end)+7 # search for index of substring from the right\n",
    "    grad_end_rgb_string = item[ge_slice_start:ge_slice_end]\n",
    "    grad_end_list.append(grad_start_rgb_string)\n"
   ]
  },
  {
   "cell_type": "markdown",
   "id": "f89c9465",
   "metadata": {},
   "source": [
    "Finally, we can write this to an MS Excel file to prepare it for use in our VBA."
   ]
  },
  {
   "cell_type": "code",
   "execution_count": 45,
   "id": "b092d9fa",
   "metadata": {},
   "outputs": [
    {
     "data": {
      "text/html": [
       "<div>\n",
       "<style scoped>\n",
       "    .dataframe tbody tr th:only-of-type {\n",
       "        vertical-align: middle;\n",
       "    }\n",
       "\n",
       "    .dataframe tbody tr th {\n",
       "        vertical-align: top;\n",
       "    }\n",
       "\n",
       "    .dataframe thead th {\n",
       "        text-align: right;\n",
       "    }\n",
       "</style>\n",
       "<table border=\"1\" class=\"dataframe\">\n",
       "  <thead>\n",
       "    <tr style=\"text-align: right;\">\n",
       "      <th></th>\n",
       "      <th>Gradient Start</th>\n",
       "      <th>Gradient End</th>\n",
       "    </tr>\n",
       "  </thead>\n",
       "  <tbody>\n",
       "    <tr>\n",
       "      <th>0</th>\n",
       "      <td>0, 255, 135</td>\n",
       "      <td>96, 239, 255</td>\n",
       "    </tr>\n",
       "    <tr>\n",
       "      <th>1</th>\n",
       "      <td>0, 97, 255</td>\n",
       "      <td>96, 239, 255</td>\n",
       "    </tr>\n",
       "    <tr>\n",
       "      <th>2</th>\n",
       "      <td>255, 27, 107</td>\n",
       "      <td>69, 202, 255</td>\n",
       "    </tr>\n",
       "    <tr>\n",
       "      <th>3</th>\n",
       "      <td>64, 201, 255</td>\n",
       "      <td>232, 28, 255</td>\n",
       "    </tr>\n",
       "    <tr>\n",
       "      <th>4</th>\n",
       "      <td>255, 147, 15</td>\n",
       "      <td>255, 249, 91</td>\n",
       "    </tr>\n",
       "    <tr>\n",
       "      <th>...</th>\n",
       "      <td>...</td>\n",
       "      <td>...</td>\n",
       "    </tr>\n",
       "    <tr>\n",
       "      <th>279</th>\n",
       "      <td>184, 156, 147</td>\n",
       "      <td>142, 104, 101</td>\n",
       "    </tr>\n",
       "    <tr>\n",
       "      <th>280</th>\n",
       "      <td>255, 206, 6</td>\n",
       "      <td>108, 150, 13</td>\n",
       "    </tr>\n",
       "    <tr>\n",
       "      <th>281</th>\n",
       "      <td>128, 155, 14</td>\n",
       "      <td>174, 183, 120</td>\n",
       "    </tr>\n",
       "    <tr>\n",
       "      <th>282</th>\n",
       "      <td>7, 65, 112</td>\n",
       "      <td>255, 247, 8</td>\n",
       "    </tr>\n",
       "    <tr>\n",
       "      <th>283</th>\n",
       "      <td>250, 250, 0</td>\n",
       "      <td>112, 150, 12</td>\n",
       "    </tr>\n",
       "  </tbody>\n",
       "</table>\n",
       "<p>284 rows × 2 columns</p>\n",
       "</div>"
      ],
      "text/plain": [
       "    Gradient Start   Gradient End\n",
       "0      0, 255, 135   96, 239, 255\n",
       "1       0, 97, 255   96, 239, 255\n",
       "2     255, 27, 107   69, 202, 255\n",
       "3     64, 201, 255   232, 28, 255\n",
       "4     255, 147, 15   255, 249, 91\n",
       "..             ...            ...\n",
       "279  184, 156, 147  142, 104, 101\n",
       "280    255, 206, 6   108, 150, 13\n",
       "281   128, 155, 14  174, 183, 120\n",
       "282     7, 65, 112    255, 247, 8\n",
       "283    250, 250, 0   112, 150, 12\n",
       "\n",
       "[284 rows x 2 columns]"
      ]
     },
     "execution_count": 45,
     "metadata": {},
     "output_type": "execute_result"
    }
   ],
   "source": [
    "df = pd.DataFrame(data={'Gradient Start': grad_start_list, 'Gradient End': grad_end_list})\n",
    "df.to_excel('RGB_export.xlsx', index=False)"
   ]
  }
 ],
 "metadata": {
  "kernelspec": {
   "display_name": "Python 3 (ipykernel)",
   "language": "python",
   "name": "python3"
  },
  "language_info": {
   "codemirror_mode": {
    "name": "ipython",
    "version": 3
   },
   "file_extension": ".py",
   "mimetype": "text/x-python",
   "name": "python",
   "nbconvert_exporter": "python",
   "pygments_lexer": "ipython3",
   "version": "3.11.5"
  }
 },
 "nbformat": 4,
 "nbformat_minor": 5
}

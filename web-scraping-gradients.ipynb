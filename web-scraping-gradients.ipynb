{
 "cells": [
  {
   "cell_type": "code",
   "execution_count": 1,
   "id": "f6333f9a",
   "metadata": {},
   "outputs": [],
   "source": [
    "from bs4 import BeautifulSoup # Very common for extracting info/data from HTML files\n",
    "import pandas as pd # Used for structuring and wrangling data"
   ]
  },
  {
   "cell_type": "markdown",
   "id": "7b831a82",
   "metadata": {},
   "source": [
    "If we were to just send the URL a request, we would not get the full HTML page that is loaded by JS. Therefore, we must first go to the link, Inspect Element, copy the HTML from Inspect Element into a file, and read in the file locally. We do that by pasting into a text file, changing the extension from TXT to HTML, and opening the file in python with UTF8."
   ]
  },
  {
   "cell_type": "code",
   "execution_count": 2,
   "id": "3963ba38",
   "metadata": {},
   "outputs": [],
   "source": [
    "soup = BeautifulSoup(open(\"https-coolors-co-gradients.html\", encoding=\"utf8\",))\n",
    "table = soup.find_all('div', attrs = {'class':'gradient-card_bg'})\n",
    "\n",
    "grad_start_list = []\n",
    "grad_end_list = []\n",
    "\n",
    "\n",
    "for item in table:\n",
    "    item = str(item)\n",
    "    gs_slice_start = item.find(\"rgb\")+4 # search for index of substring from the right\n",
    "    gs_slice_end = item.find(\")\") # search for index of substring from the right\n",
    "    grad_start_rgb_string = item[gs_slice_start:gs_slice_end]\n",
    "    grad_start_list.append(grad_start_rgb_string)\n",
    "    \n",
    "    ge_slice_end = item.rfind(\" 100%\")-1 # search for index of substring from the right\n",
    "    ge_slice_start = item.rfind(\"%\",0,ge_slice_end)+7 # search for index of substring from the right\n",
    "    grad_end_rgb_string = item[ge_slice_start:ge_slice_end]\n",
    "    grad_end_list.append(grad_start_rgb_string)\n"
   ]
  },
  {
   "cell_type": "markdown",
   "id": "f89c9465",
   "metadata": {},
   "source": [
    "Finally, we can write this to an MS Excel file to prepare it for use in our VBA."
   ]
  },
  {
   "cell_type": "code",
   "execution_count": 3,
   "id": "b092d9fa",
   "metadata": {},
   "outputs": [],
   "source": [
    "df = pd.DataFrame(data={'Gradient Start': grad_start_list, 'Gradient End': grad_end_list})\n",
    "df.to_excel('RGB_export.xlsx', index=False)"
   ]
  }
 ],
 "metadata": {
  "kernelspec": {
   "display_name": "Python 3 (ipykernel)",
   "language": "python",
   "name": "python3"
  },
  "language_info": {
   "codemirror_mode": {
    "name": "ipython",
    "version": 3
   },
   "file_extension": ".py",
   "mimetype": "text/x-python",
   "name": "python",
   "nbconvert_exporter": "python",
   "pygments_lexer": "ipython3",
   "version": "3.11.5"
  }
 },
 "nbformat": 4,
 "nbformat_minor": 5
}
